{
 "cells": [
  {
   "cell_type": "code",
   "execution_count": null,
   "id": "1c9757ef-d5df-409e-b803-b8e53d8788f6",
   "metadata": {},
   "outputs": [],
   "source": [
    "# Q1 - Explain the following with an example\n",
    "Ans.\n",
    "a. Artificial Intelligence : Artificial intelligence is a broad term that refers to the ability of machines to mimic \n",
    "human intelligence. This can include tasks such as learning, reasoning, and problem-solving. example : Robotics, \n",
    "self-driving car, Alexa etc.\n",
    "\n",
    "b. Machine Learning : Machine learning is a subset of AI that allows machines to learn without being explicitly \n",
    "programmed. This is done by feeding the machine data and allowing it to identify patterns and relationships in the data.\n",
    "example : fraud detection, recommendation system etc.\n",
    "\n",
    "c. Deep Learning : Deep learning is a subset of machine learning that uses artificial neural networks to learn from data.\n",
    "Neural networks are inspired by the human brain and are made up of layers of interconnected nodes. Each node is \n",
    "responsible for learning a specific feature of the data. example : Object detection, Chatbots, NLP etc."
   ]
  },
  {
   "cell_type": "code",
   "execution_count": null,
   "id": "da966aa3-2220-4bfa-b75a-5df023315c63",
   "metadata": {},
   "outputs": [],
   "source": [
    "# Q2- What is supervised learning? List some examples of supervised learning.\n",
    "Ans.\n",
    "In supervised learning, the machine learning algorithm is trained on a dataset of data that has been labeled with the \n",
    "desired output.\n",
    "\n",
    "Example of supervised learning\n",
    "1. Fraud detection. This is the task of identifying fraudulent transactions, such as credit card fraud or online scams. \n",
    "Supervised learning algorithms can be used to train models that can identify fraudulent transactions with high levels of accuracy.\n",
    "\n",
    "2. Customer segmentation. This is the task of dividing customers into groups based on common characteristics, such as age, \n",
    "gender, location, or purchase history. Supervised learning algorithms can be used to train models that can segment customers\n",
    "with high levels of accuracy.\n",
    "\n",
    "3. Recommendation systems. This is the task of recommending products or services to customers based on their past behavior. \n",
    "Supervised learning algorithms can be used to train models that can recommend products or services with high levels of accuracy."
   ]
  },
  {
   "cell_type": "code",
   "execution_count": null,
   "id": "1c2ff8b2-1265-4acc-a088-3c6eae30176d",
   "metadata": {},
   "outputs": [],
   "source": [
    "# Q3- What is unsupervised learning? List some examples of unsupervised learning.\n",
    "Ans.\n",
    "In unsupervised learning, the machine learning algorithm is not given any labeled data. Instead, the algorithm is given a dataset\n",
    "of data and it must learn to identify patterns and relationships in the data on its own.\n",
    "\n",
    "Example of unsupervised learning\n",
    "1. Natural language processing. Unsupervised learning can be used to identify topics and patterns in text data. This information\n",
    "can then be used to improve text analysis and machine translation applications.\n",
    "\n",
    "2. Image recognition. Unsupervised learning can be used to identify objects and scenes in images. This information can then be \n",
    "used to develop self-driving cars, facial recognition software, and other applications."
   ]
  },
  {
   "cell_type": "code",
   "execution_count": null,
   "id": "cc2d22af-8b83-4395-adfb-7dad84c5d1bc",
   "metadata": {},
   "outputs": [],
   "source": [
    "# Q4- What is the difference between AI, ML, DL, and DS?\n",
    "Ans. \n",
    "a. Artificial Intelligence : Artificial intelligence is a broad term that refers to the ability of machines to mimic \n",
    "human intelligence. This can include tasks such as learning, reasoning, and problem-solving.\n",
    "\n",
    "b. Machine Learning : Machine learning is a subset of AI that allows machines to learn without being explicitly \n",
    "programmed. This is done by feeding the machine data and allowing it to identify patterns and relationships in the data.\n",
    "\n",
    "c. Deep Learning : Deep learning is a subset of machine learning that uses artificial neural networks to learn from data.\n",
    "Neural networks are inspired by the human brain and are made up of layers of interconnected nodes. Each node is \n",
    "responsible for learning a specific feature of the data.\n",
    "\n",
    "d. Data science is a field that combines computer science, statistics, and mathematics to extract knowledge from data. \n",
    "Data scientists use a variety of techniques, including ML and DL, to analyze data and solve problems."
   ]
  },
  {
   "cell_type": "code",
   "execution_count": null,
   "id": "0fa261f7-371b-437a-b42d-77ee2878b7ee",
   "metadata": {},
   "outputs": [],
   "source": [
    "# Q5- What are the main differences between supervised, unsupervised, and semi-supervised learning?\n",
    "Ans.\n",
    "a. Supervised learning requires labeled data, which means that each data point has a known output. The goal of supervised \n",
    "learning is to train a model to predict the output for new data points.\n",
    "\n",
    "b. Unsupervised learning does not require labeled data. The goal of unsupervised learning is to find patterns in unlabeled data.\n",
    "\n",
    "c. Semi-supervised learning uses a combination of labeled and unlabeled data. The goal of semi-supervised learning is to train\n",
    "a model that can generalize to new data points."
   ]
  },
  {
   "cell_type": "code",
   "execution_count": null,
   "id": "6e57df5b-5a68-4349-8f00-ed5c7440a4a8",
   "metadata": {},
   "outputs": [],
   "source": [
    "# Q6- What is train, test and validation split? Explain the importance of each term.\n",
    "Ans.\n",
    "a. Train set: The data that is used to train the machine learning model.\n",
    "b. Validation set: A subset of the data that is used to evaluate the performance of the machine learning model.\n",
    "c. Test set: A subset of the data that is used to test the performance of the machine learning model.\n",
    "\n",
    "Importance of each term\n",
    "1. Train set: The most important part of the data split. The model is trained on this data, so it is important that the training\n",
    "set is representative of the data that the model will be used on in the real world.\n",
    "\n",
    "2. Validation set: It is Used to evaluate the performance of the model and to tune the hyperparameters of the model. The validation\n",
    "set should be similar to the training set, but it should not be used to train the model.\n",
    "\n",
    "3. Test set: It is Used to get an unbiased estimate of the models performance in the real world. The test set should be different from\n",
    "the training set and the validation set."
   ]
  },
  {
   "cell_type": "code",
   "execution_count": null,
   "id": "aba43dc8-0dab-45f6-8424-37eb6b534d39",
   "metadata": {},
   "outputs": [],
   "source": [
    "# Q7- How can unsupervised learning be used in anomaly detection?\n",
    "Ans.\n",
    "Unsupervised learning algorithms can be used to detect anomalies by identifying data points that are significantly different from \n",
    "the rest of the data. This can be done by clustering data points together and then identifying data points that are not assigned to\n",
    "any cluster. Anomaly detection can be used in a variety of applications, such as fraud detection and fault detection."
   ]
  },
  {
   "cell_type": "code",
   "execution_count": null,
   "id": "ea1c08d3-a555-498f-ad8f-abe2877a7ecb",
   "metadata": {},
   "outputs": [],
   "source": [
    "# Q8. List down some commonly used supervised learning algorithms and unsupervised learning algorithms.\n",
    "Ans.\n",
    "There are some commonly used supervised learning algorithms and unsupervised learning algorithms:\n",
    "    \n",
    "a. Linear regression. Linear regression is a simple yet powerful algorithm that can be used to predict continuous values. It works by\n",
    "finding the line that best fits the data.\n",
    "\n",
    "b. Logistic regression. Logistic regression is a classification algorithm that can be used to predict binary values. It works by finding\n",
    "the line that best separates the two classes of data.\n",
    "\n",
    "c. Decision trees. Decision trees are a powerful algorithm that can be used to predict both continuous and categorical values. They work\n",
    "by splitting the data into smaller and smaller groups until each group is perfectly predicted.\n",
    "\n",
    "d. Random forests. Random forests are an ensemble of decision trees that are trained on different subsets of the data. They work by \n",
    "averaging the predictions of the individual decision trees to improve the accuracy of the model.\n",
    "\n",
    "e. Support vector machines (SVMs). SVMs are a powerful algorithm that can be used to predict both continuous and categorical values. They\n",
    "work by finding the hyperplane that best separates the two classes of data.\n",
    "\n",
    "f. K-means clustering. K-means clustering is a simple yet powerful algorithm that can be used to cluster data points into groups. It works\n",
    "by finding the k centroids that best represent the data points.\n",
    "\n",
    "g. Hierarchical clustering. Hierarchical clustering is a more complex algorithm that can be used to cluster data points into a hierarchy of\n",
    "groups. It works by repeatedly merging the closest data points together.\n",
    "\n",
    "h. Anomaly detection. Anomaly detection algorithms can be used to identify data points that are significantly different from the rest of \n",
    "the data. This can be useful for identifying fraudulent transactions, intrusions, and faults.\n",
    "\n",
    "i. Principal component analysis (PCA). PCA is a dimensionality reduction algorithm that can be used to reduce the number of features in a\n",
    "dataset while preserving as much information as possible. This can be useful for improving the performance of machine learning models."
   ]
  }
 ],
 "metadata": {
  "kernelspec": {
   "display_name": "Python 3 (ipykernel)",
   "language": "python",
   "name": "python3"
  },
  "language_info": {
   "codemirror_mode": {
    "name": "ipython",
    "version": 3
   },
   "file_extension": ".py",
   "mimetype": "text/x-python",
   "name": "python",
   "nbconvert_exporter": "python",
   "pygments_lexer": "ipython3",
   "version": "3.10.8"
  }
 },
 "nbformat": 4,
 "nbformat_minor": 5
}
